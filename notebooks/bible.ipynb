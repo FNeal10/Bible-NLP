{
 "cells": [
  {
   "cell_type": "code",
   "execution_count": 1,
   "id": "df9cf123",
   "metadata": {},
   "outputs": [],
   "source": [
    "import pandas as pd"
   ]
  },
  {
   "cell_type": "code",
   "execution_count": 3,
   "id": "fe689516",
   "metadata": {},
   "outputs": [],
   "source": [
    "import PyPDF2"
   ]
  },
  {
   "cell_type": "code",
   "execution_count": 6,
   "id": "9cfdfeed",
   "metadata": {},
   "outputs": [
    {
     "name": "stdout",
     "output_type": "stream",
     "text": [
      "Page 1 Genesis\n",
      "The First Book of Moses, called Genesis\n",
      "   \n",
      "{1:1} In the beginning God created the heaven and the\n",
      "earth. {1:2} And the earth was without form, and void; and\n",
      "darkness [was] upon the face of the deep. And the Spirit of\n",
      "God moved upon the face of the waters.\n",
      "{1:3} And God said, Let there be light: and there was\n",
      "light. {1:4} And God saw the light, that [it was] good: and\n",
      "God divided the light from the darkness. {1:5} And God\n",
      "called the light Day, and the darkness he called Night. And\n",
      "the evening and the morning were the first day.\n",
      "{1:6} And God said, Let there be a firmament in the midst\n",
      "of the waters, and let it divide the waters from the waters.\n",
      "{1:7} And God made the firmament, and divided the waters\n",
      "which [were] under the firmament from the waters which\n",
      "[were] above the firmament: and it was so. {1:8} And God\n",
      "called the firmament Heaven. And the evening and the\n",
      "morning were the second day.\n",
      "{1:9} And God said, Let the waters under the heaven be\n",
      "gathered together unto one place, and let the dry [land]\n",
      "appear: and it was so. {1:10} And God called the dry [land]\n",
      "Earth; and the gathering together of the waters called he\n",
      "Seas: and God saw that [it was] good. {1:11} And God said,\n",
      "Let the earth bring forth grass, the herb yielding seed, [and]\n",
      "the fruit tree yielding fruit after his kind, whose seed [is] in\n",
      "itself, upon the earth: and it was so. {1:12} And the earth\n",
      "brought forth grass, [and] herb yielding seed after his kind,\n",
      "and the tree yielding fruit, whose seed [was] in itself, after\n",
      "his kind: and God saw that [it was] good. {1:13} And the\n",
      "evening and the morning were the third day.\n",
      "{1:14} And God said, Let there be lights in the firmament\n",
      "of the heaven to divide the day from the night; and let them\n",
      "be for signs, and for seasons, and for days, and years:\n",
      "{1:15} And let them be for lights in the firmament of the\n",
      "heaven to give light upon the earth: and it was so. {1:16}\n",
      "And God made two great lights; the greater light to rule the\n",
      "day, and the lesser light to rule the night: [he made] the stars\n",
      "also. {1:17} And God set them in the firmament of the\n",
      "heaven to give light upon the earth, {1:18} And to rule over\n",
      "the day and over the night, and to divide the light from the\n",
      "darkness: and God saw that [it was] good. {1:19} And the\n",
      "evening and the morning were the fourth day. {1:20} And\n",
      "God said, Let the waters bring forth abundantly the moving\n",
      "creature that hath life, and fowl [that] may fly above the\n",
      "earth in the open firmament of heaven. {1:21} And God\n",
      "created great whales, and every living creature that moveth,\n",
      "which the waters brought forth abundantly, after their kind,\n",
      "and every winged fowl after his kind: and God saw that [it\n",
      "was] good. {1:22} And God blessed them, saying, Be\n",
      "fruitful, and multiply, and fill the waters in the seas, and let\n",
      "fowl multiply in the earth. {1:23} And the evening and the\n",
      "morning were the fifth day.\n",
      "{1:24} And God said, Let the earth bring forth the living\n",
      "creature after his kind, cattle, and creeping thing, and beast\n",
      "of the earth after his kind: and it was so. {1:25} And God\n",
      "made the beast of the earth after his kind, and cattle after\n",
      "their kind, and every thing that creepeth upon the earth after\n",
      "his kind: and God saw that [it was] good.\n",
      "{1:26} And God said, Let us make man in our image,\n",
      "after our likeness: and let them have dominion over the fish\n",
      "of the sea, and over the fowl of the air, and over the cattle,and over all the earth, and over every creeping thing that\n",
      "creepeth upon the earth. {1:27} So God created man in his\n",
      "[own] image, in the image of God created he him; male and\n",
      "female created he them. {1:28} And God blessed them, and\n",
      "God said unto them, Be fruitful, and multiply, and replenish\n",
      "the earth, and subdue it: and have dominion over the fish of\n",
      "the sea, and over the fowl of the air, and over every living\n",
      "thing that moveth upon the earth.\n",
      "{1:29} And God said, Behold, I have given you every\n",
      "herb bearing seed, which [is] upon the face of all the earth,\n",
      "and every tree, in the which [is] the fruit of a tree yielding\n",
      "seed; to you it shall be for meat. {1:30} And to every beast\n",
      "of the earth, and to every fowl of the air, and to every thing\n",
      "that creepeth upon the earth, wherein [there is] life, [I have\n",
      "given] every green herb for meat: and it was so. {1:31} And\n",
      "God saw every thing that he had made, and, behold, [it was]\n",
      "very good. And the evening and the morning were the sixth\n",
      "day.\n",
      "{2:1} Thus the heavens and the earth were finished, and\n",
      "all the host of them. {2:2} And on the seventh day God\n",
      "ended his work which he had made; and he rested on the\n",
      "seventh day from all his work which he had made. {2:3}\n",
      "And God blessed the seventh day, and sanctified it: because\n",
      "that in it he had rested from all his work which God created\n",
      "and made.\n",
      "{2:4} These [are] the generations of the heavens and of\n",
      "the earth when they were created, in the day that the LORD\n",
      "God made the earth and the heavens, {2:5} And every plant\n",
      "of the field before it was in the earth, and every herb of the\n",
      "field before it grew: for the LORD God had not caused it to\n",
      "rain upon the earth, and [there was] not a man to till the\n",
      "ground. {2:6} But there went up a mist from the earth, and\n",
      "watered the whole face of the ground. {2:7} And the LORD\n",
      "God formed man [of] the dust of the ground, and breathed\n",
      "into his nostrils the breath of life; and man became a living\n",
      "soul.\n",
      "{2:8} And the LORD God planted a garden eastward in\n",
      "Eden; and there he put the man whom he had formed. {2:9}\n",
      "And out of the ground made the LORD God to grow every\n",
      "tree that is pleasant to the sight, and good for food; the tree\n",
      "of life also in the midst of the garden, and the tree of\n",
      "knowledge of good and evil. {2:10} And a river went out of\n",
      "Eden to water the garden; and from thence it was parted,\n",
      "and became into four heads. {2:11} The name of the first\n",
      "[is] Pison: that [is] it which compasseth the whole land of\n",
      "Havilah, where [there is] gold; {2:12} And the gold of that\n",
      "land [is] good: there [is] bdellium and the onyx stone.\n",
      "{2:13} And the name of the second river [is] Gihon: the\n",
      "same [is] it that compasseth the whole land of Ethiopia.\n",
      "{2:14} And the name of the third river [is] Hiddekel: that\n",
      "[is] it which goeth toward the east of Assyria. And the\n",
      "fourth river [is] Euphrates. {2:15} And the LORD God took\n",
      "the man, and put him into the garden of Eden to dress it and\n",
      "to keep it. {2:16} And the LORD God commanded the man,\n",
      "saying, Of every tree of the garden thou mayest freely eat:\n",
      "{2:17} But of the tree of the knowledge of good and evil,\n",
      "thou shalt not eat of it: for in the day that thou eatest thereof\n",
      "thou shalt surely die.\n",
      "{2:18} And the LORD God said, [It is] not good that the\n",
      "man should be alone; I will make him an help meet for him.\n",
      "{2:19} And out of the ground the LORD God formed every\n",
      "beast of the field, and every fowl of the air; and brought\n",
      "[them] unto Adam to see what he would call them: and\n",
      "whatsoever Adam called every living creature, that [was]\n",
      "Downloaded from www.holybooks.com - https://www.holybooks.com/download-bible/\n"
     ]
    }
   ],
   "source": [
    "with open('../pdf/The-Holy-Bible-King-James-Version.pdf', 'rb') as file:\n",
    "    reader = PyPDF2.PdfReader(file)\n",
    "    number_of_pages = len(reader.pages)\n",
    "    page = reader.pages[21]\n",
    "    text = page.extract_text()\n",
    "    print(text)"
   ]
  },
  {
   "cell_type": "code",
   "execution_count": 5,
   "id": "7c123fa7",
   "metadata": {},
   "outputs": [
    {
     "data": {
      "text/plain": [
       "742"
      ]
     },
     "execution_count": 5,
     "metadata": {},
     "output_type": "execute_result"
    }
   ],
   "source": [
    "number_of_pages"
   ]
  },
  {
   "cell_type": "code",
   "execution_count": null,
   "id": "106942e8",
   "metadata": {},
   "outputs": [],
   "source": []
  }
 ],
 "metadata": {
  "kernelspec": {
   "display_name": "venv",
   "language": "python",
   "name": "python3"
  },
  "language_info": {
   "codemirror_mode": {
    "name": "ipython",
    "version": 3
   },
   "file_extension": ".py",
   "mimetype": "text/x-python",
   "name": "python",
   "nbconvert_exporter": "python",
   "pygments_lexer": "ipython3",
   "version": "3.11.9"
  }
 },
 "nbformat": 4,
 "nbformat_minor": 5
}
