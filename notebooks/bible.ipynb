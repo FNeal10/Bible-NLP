{
 "cells": [
  {
   "cell_type": "code",
   "execution_count": 6,
   "id": "df9cf123",
   "metadata": {},
   "outputs": [],
   "source": [
    "import pandas as pd\n",
    "import json\n",
    "import re\n",
    "import PyPDF2"
   ]
  },
  {
   "cell_type": "code",
   "execution_count": 23,
   "id": "e7f0e1e2",
   "metadata": {},
   "outputs": [],
   "source": [
    "old_start = 21\n",
    "old_end = 23"
   ]
  },
  {
   "cell_type": "code",
   "execution_count": 2,
   "id": "5a03b908",
   "metadata": {},
   "outputs": [],
   "source": [
    "def extractBooksAndPages(text):\n",
    "    book_and_pages = {}\n",
    "    start = re.search(r\"Genesis\\s*\\.\\.\\.\", text)\n",
    "    if start:\n",
    "        q = text[start.start():]  \n",
    "    else:\n",
    "        q = text\n",
    "\n",
    "    pattern = r\"([1-3]?\\s?\\w+(?: \\w+)?)\\s*\\.\\.\\.\\s*(\\d+)\"\n",
    "    matches = re.findall(pattern, q)\n",
    "\n",
    "    for book, page in matches:\n",
    "        book_and_pages[book.strip()] = int(page)\n",
    "\n",
    "    return book_and_pages\n"
   ]
  },
  {
   "cell_type": "code",
   "execution_count": null,
   "id": "d90121d4",
   "metadata": {},
   "outputs": [],
   "source": [
    "def clean_text(text):\n",
    "    text = text.replace('\\n', ' ').replace('\\r', ' ')\n",
    "    text = re.sub(r\"[\\[\\]]\", '', text)\n",
    "    text = text.replace(\"Downloaded from www.holybooks.com - https://www.holybooks.com/download-bible/\",\"\")\n",
    "    text = ' '.join(text.split())\n",
    "    return text"
   ]
  },
  {
   "cell_type": "code",
   "execution_count": 4,
   "id": "34ce81cf",
   "metadata": {},
   "outputs": [],
   "source": [
    "reader = PyPDF2.PdfReader('../pdf/The-Holy-Bible-King-James-Version.pdf')"
   ]
  },
  {
   "cell_type": "code",
   "execution_count": 8,
   "id": "e8c5df03",
   "metadata": {},
   "outputs": [],
   "source": [
    "contents_table = reader.pages[2]\n",
    "contents = extractBooksAndPages(contents_table.extract_text())\n",
    "with open(\"../data/books.json\", \"w\") as f:   # Windows\n",
    "    json.dump(contents, f, indent=4)\n",
    "\n"
   ]
  },
  {
   "cell_type": "code",
   "execution_count": null,
   "id": "733c6e40",
   "metadata": {},
   "outputs": [],
   "source": []
  },
  {
   "cell_type": "code",
   "execution_count": null,
   "id": "e22b4520",
   "metadata": {},
   "outputs": [],
   "source": []
  },
  {
   "cell_type": "code",
   "execution_count": null,
   "id": "872ad59b",
   "metadata": {},
   "outputs": [],
   "source": []
  },
  {
   "cell_type": "code",
   "execution_count": null,
   "id": "421db089",
   "metadata": {},
   "outputs": [],
   "source": []
  },
  {
   "cell_type": "code",
   "execution_count": null,
   "id": "adce798b",
   "metadata": {},
   "outputs": [],
   "source": []
  },
  {
   "cell_type": "code",
   "execution_count": 151,
   "id": "bcfbe02b",
   "metadata": {},
   "outputs": [
    {
     "name": "stdout",
     "output_type": "stream",
     "text": [
      "Number of pages: 742\n"
     ]
    }
   ],
   "source": [
    "print(\"Number of pages:\", len(reader.pages))\n",
    "pageTest = reader.pages[2]"
   ]
  },
  {
   "cell_type": "code",
   "execution_count": 152,
   "id": "d560dd77",
   "metadata": {},
   "outputs": [
    {
     "data": {
      "text/plain": [
       "'Table of Contents\\nPreface to PDF Version\\nPreface to 1611 Translation\\nOld Testament\\n    Genesis ... 1\\n    Exodus ... 31\\n    Leviticus ... 57\\n    Numbers ... 77\\n    Deuteronomy ... 103\\n    Joshua ... 125\\n    Judges ... 141\\n    Ruth ... 157\\n    1 Samuel ... 159\\n    2 Samuel ... 179\\n    1 Kings ... 195\\n    2 Kings ... 215\\n    1 Chronicles ... 233\\n    2 Chronicles ... 251\\n    Ezra ... 273\\n    Nehemiah ... 279\\n    Esther ... 289\\n    Job ... 295\\n    Psalms ... 309\\n    Proverbs ... 395\\n    Ecclesiastes ... 407\\n    Song of Songs ... 413\\n    Isaiah ... 417\\n    Jeremiah ... 447\\n    Lamentations ... 479\\n    Ezekiel ... 483\\n    Daniel ... 513\\n    Hosea ... 523\\n    Joel ... 527\\n    Amos ... 529\\n    Obadiah ... 533\\n    Jonah ... 535    Micah ... 537\\n    Nahum ... 541\\n    Habakkuk ... 543\\n    Zephaniah ... 545\\n    Haggai ... 547\\n    Zechariah ... 549\\n    Malachi ... 555\\nNew Testament\\n    Matthew ... 559\\n    Mark ... 579\\n    Luke ... 591\\n    John ... 611\\n    Acts ... 627\\n    Romans ... 647\\n    1 Corinthians ... 655\\n    2 Corinthians ... 663\\n    Galatians ... 669\\n    Ephesians ... 673\\n    Philippians ... 677\\n    Colossians ... 679\\n    1 Thessalonians ... 681\\n    2 Thessalonians ... 683\\n    1 Timothy ... 685\\n    2 Timothy ... 687\\n    Titus ... 689\\n    Philemon ... 691\\n    Hebrews ... 693\\n    James ... 699\\n    1 Peter ... 701\\n    2 Peter ... 703\\n    1 John ... 705\\n    2 John ... 707\\n    3 John ... 709\\n    Jude ... 711\\n    Revelation ... 713\\nDownloaded from www.holybooks.com - https://www.holybooks.com/download-bible/'"
      ]
     },
     "execution_count": 152,
     "metadata": {},
     "output_type": "execute_result"
    }
   ],
   "source": [
    "pageTest.extract_text()"
   ]
  },
  {
   "cell_type": "code",
   "execution_count": 153,
   "id": "f0a35cdd",
   "metadata": {},
   "outputs": [],
   "source": [
    "cleaned = clean_text(pageTest.extract_text())"
   ]
  },
  {
   "cell_type": "code",
   "execution_count": 154,
   "id": "cc21478c",
   "metadata": {},
   "outputs": [],
   "source": [
    "books = get_book_range(pageTest.extract_text())"
   ]
  },
  {
   "cell_type": "code",
   "execution_count": 155,
   "id": "f780336c",
   "metadata": {},
   "outputs": [
    {
     "data": {
      "text/plain": [
       "{'Genesis': 1,\n",
       " 'Exodus': 31,\n",
       " 'Leviticus': 57,\n",
       " 'Numbers': 77,\n",
       " 'Deuteronomy': 103,\n",
       " 'Joshua': 125,\n",
       " 'Judges': 141,\n",
       " 'Ruth': 157,\n",
       " '1 Samuel': 159,\n",
       " '2 Samuel': 179,\n",
       " '1 Kings': 195,\n",
       " '2 Kings': 215,\n",
       " '1 Chronicles': 233,\n",
       " '2 Chronicles': 251,\n",
       " 'Ezra': 273,\n",
       " 'Nehemiah': 279,\n",
       " 'Esther': 289,\n",
       " 'Job': 295,\n",
       " 'Psalms': 309,\n",
       " 'Proverbs': 395,\n",
       " 'Ecclesiastes': 407,\n",
       " 'of Songs': 413,\n",
       " 'Isaiah': 417,\n",
       " 'Jeremiah': 447,\n",
       " 'Lamentations': 479,\n",
       " 'Ezekiel': 483,\n",
       " 'Daniel': 513,\n",
       " 'Hosea': 523,\n",
       " 'Joel': 527,\n",
       " 'Amos': 529,\n",
       " 'Obadiah': 533,\n",
       " 'Jonah': 535,\n",
       " 'Micah': 537,\n",
       " 'Nahum': 541,\n",
       " 'Habakkuk': 543,\n",
       " 'Zephaniah': 545,\n",
       " 'Haggai': 547,\n",
       " 'Zechariah': 549,\n",
       " 'Malachi': 555,\n",
       " 'Matthew': 559,\n",
       " 'Mark': 579,\n",
       " 'Luke': 591,\n",
       " 'John': 611,\n",
       " 'Acts': 627,\n",
       " 'Romans': 647,\n",
       " '1 Corinthians': 655,\n",
       " '2 Corinthians': 663,\n",
       " 'Galatians': 669,\n",
       " 'Ephesians': 673,\n",
       " 'Philippians': 677,\n",
       " 'Colossians': 679,\n",
       " '1 Thessalonians': 681,\n",
       " '2 Thessalonians': 683,\n",
       " '1 Timothy': 685,\n",
       " '2 Timothy': 687,\n",
       " 'Titus': 689,\n",
       " 'Philemon': 691,\n",
       " 'Hebrews': 693,\n",
       " 'James': 699,\n",
       " '1 Peter': 701,\n",
       " '2 Peter': 703,\n",
       " '1 John': 705,\n",
       " '2 John': 707,\n",
       " '3 John': 709,\n",
       " 'Jude': 711,\n",
       " 'Revelation': 713}"
      ]
     },
     "execution_count": 155,
     "metadata": {},
     "output_type": "execute_result"
    }
   ],
   "source": [
    "books"
   ]
  },
  {
   "cell_type": "code",
   "execution_count": null,
   "id": "53131099",
   "metadata": {},
   "outputs": [],
   "source": []
  },
  {
   "cell_type": "code",
   "execution_count": null,
   "id": "ee70ecf3",
   "metadata": {},
   "outputs": [],
   "source": []
  }
 ],
 "metadata": {
  "kernelspec": {
   "display_name": "env (3.11.4)",
   "language": "python",
   "name": "python3"
  },
  "language_info": {
   "codemirror_mode": {
    "name": "ipython",
    "version": 3
   },
   "file_extension": ".py",
   "mimetype": "text/x-python",
   "name": "python",
   "nbconvert_exporter": "python",
   "pygments_lexer": "ipython3",
   "version": "3.11.4"
  }
 },
 "nbformat": 4,
 "nbformat_minor": 5
}
